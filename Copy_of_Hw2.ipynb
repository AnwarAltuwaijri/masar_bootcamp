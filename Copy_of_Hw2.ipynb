{
  "nbformat": 4,
  "nbformat_minor": 0,
  "metadata": {
    "colab": {
      "provenance": [],
      "toc_visible": true,
      "include_colab_link": true
    },
    "kernelspec": {
      "name": "python3",
      "display_name": "Python 3"
    },
    "language_info": {
      "name": "python"
    }
  },
  "cells": [
    {
      "cell_type": "markdown",
      "metadata": {
        "id": "view-in-github",
        "colab_type": "text"
      },
      "source": [
        "<a href=\"https://colab.research.google.com/github/AnwarAltuwaijri/masar_bootcamp/blob/main/Copy_of_Hw2.ipynb\" target=\"_parent\"><img src=\"https://colab.research.google.com/assets/colab-badge.svg\" alt=\"Open In Colab\"/></a>"
      ]
    },
    {
      "cell_type": "markdown",
      "source": [
        "لديكم نظام تقييم ومكافآت للعاملين بناءً على عدد سنوات الخبرة وتقييم أدائهم. يمكن استخدام جمل الشرط في بايثون لتحديد نسبة المكافأة بناءً على هذه القواعد.:\n",
        "\n",
        "**سؤال:**\n",
        "لديكم نظام مكافآت للموظفين يعتمد على عدد سنوات الخبرة وتقييم أدائهم. إذا كانت السنوات أقل من أو تساوي 10 سنوات، وكان التقييم ممتازًا، فإن المكافأة تكون 10%، وإذا كان التقييم ضعيفًا، فإن المكافأة تكون 5%. أما إذا كانت السنوات أكثر من 10 سنة، وكان التقييم ممتازًا، فإن المكافأة تكون 20%، وإذا كان التقييم ضعيفًا، فإن المكافأة تكون 15%.\n",
        "\n",
        "اكتب كود بايثون باستخدام جمل الشرط لحساب المكافأة بناءً على السنوات والتقييم.\n",
        "\n",
        "**تلميح:**\n",
        "يمكنك استخدام متغيرات لتمثيل عدد السنوات وتقييم الأداء، ثم استخدام جمل الشرط\n",
        "\n",
        "(`if`, `elif`, `else`)\n",
        "\n",
        ")لتحديد نسبة المكافأة بناءً على الشروط المعطاة."
      ],
      "metadata": {
        "id": "zW4LS8t98jxg"
      }
    },
    {
      "cell_type": "markdown",
      "source": [
        "![Table](https://drive.google.com/uc?export=view&id=1T4-jrAZVP-R0reZFL0jGjW05xg0YH1P4)"
      ],
      "metadata": {
        "id": "yuD6mjBu-G6I"
      }
    },
    {
      "cell_type": "markdown",
      "source": [
        "Solution # 1"
      ],
      "metadata": {
        "id": "Xmk1xGtp8xhn"
      }
    },
    {
      "cell_type": "code",
      "source": [
        "def calculate_bonus(years, evaluation):\n",
        "    if years <= 10:\n",
        "        if evaluation == \"Excellent\":\n",
        "            bonus_percentage = 0.10\n",
        "        elif evaluation == \"Poor\":\n",
        "            bonus_percentage = 0.05\n",
        "        else:\n",
        "            bonus_percentage = 0\n",
        "    else:\n",
        "        if evaluation == \"Excellent\":\n",
        "            bonus_percentage = 0.20\n",
        "        elif evaluation == \"Poor\":\n",
        "            bonus_percentage = 0.15\n",
        "        else:\n",
        "            bonus_percentage = 0\n",
        "\n",
        "    return bonus_percentage\n",
        "\n",
        "\n",
        "# تعيين القيم\n",
        "employee_years = 8\n",
        "employee_evaluation = \"Excellent\"\n",
        "\n",
        "# حساب المكافأة\n",
        "bonus = calculate_bonus(employee_years, employee_evaluation)\n",
        "\n",
        "# طباعة نتيجة الحساب\n",
        "print(f\"معدل المكافأة: {bonus * 100}%\")"
      ],
      "metadata": {
        "id": "8eI56i92-AcC",
        "colab": {
          "base_uri": "https://localhost:8080/"
        },
        "outputId": "19491031-942d-42b0-b09c-b8af355a0554"
      },
      "execution_count": 1,
      "outputs": [
        {
          "output_type": "stream",
          "name": "stdout",
          "text": [
            "معدل المكافأة: 10.0%\n"
          ]
        }
      ]
    },
    {
      "cell_type": "code",
      "source": [
        "#My solution\n",
        "def calculate_bonus(years,evaluation) :\n",
        "  if years<= 10 :\n",
        "    if evaluation==\"Excellent\" :\n",
        "      bonus_percentage = 0.10\n",
        "    else :\n",
        "       if evaluation==\"Poor\":\n",
        "        bonus_percentage = 0.05\n",
        "  else :\n",
        "      if evaluation == \"Excellent\":\n",
        "            bonus_percentage = 0.20\n",
        "      else :\n",
        "        if evaluation == \"Poor\":\n",
        "            bonus_percentage = 0.15\n",
        "  return bonus_percentage\n",
        "\n",
        "\n",
        "# تعيين القيم\n",
        "employee_years = 11\n",
        "employee_evaluation = \"Excellent\"\n",
        "\n",
        "# حساب المكافأة\n",
        "bonus = calculate_bonus(employee_years, employee_evaluation)\n",
        "\n",
        "# طباعة نتيجة الحساب\n",
        "print(f\"معدل المكافأة: {bonus * 100}%\")"
      ],
      "metadata": {
        "colab": {
          "base_uri": "https://localhost:8080/"
        },
        "id": "pDTEjCALPWtR",
        "outputId": "dedf5977-46d8-4846-f8af-0711b08c2768"
      },
      "execution_count": 26,
      "outputs": [
        {
          "output_type": "stream",
          "name": "stdout",
          "text": [
            "معدل المكافأة: 20.0%\n"
          ]
        }
      ]
    },
    {
      "cell_type": "code",
      "source": [
        "#Solution #2"
      ],
      "metadata": {
        "id": "uzayogmG-CYo"
      },
      "execution_count": null,
      "outputs": []
    },
    {
      "cell_type": "code",
      "source": [
        "import numpy as np\n",
        "\n",
        "def calculate_bonus(years, evaluation):\n",
        "    if years <= 10:\n",
        "        bonus = np.select([evaluation == \"Excellent\", evaluation == \"Poor\"], [0.10, 0.05], default=0)\n",
        "    else:\n",
        "        bonus = np.select([evaluation == \"Excellent\", evaluation == \"Poor\"], [0.20, 0.15], default=0)\n",
        "\n",
        "    return bonus\n",
        "\n",
        "# تعيين القيم\n",
        "employee_years = 8\n",
        "employee_evaluation = \"Excellent\"\n",
        "\n",
        "# حساب المكافأة\n",
        "bonus = calculate_bonus(employee_years, employee_evaluation)\n",
        "\n",
        "# طباعة نتيجة الحساب\n",
        "print(f\"معدل المكافأة: {bonus * 100}%\")"
      ],
      "metadata": {
        "id": "GYV2Vxbc-ERy",
        "colab": {
          "base_uri": "https://localhost:8080/"
        },
        "outputId": "9930d877-cbc7-47bd-f1f6-591feaf7fe14"
      },
      "execution_count": 27,
      "outputs": [
        {
          "output_type": "stream",
          "name": "stdout",
          "text": [
            "معدل المكافأة: 10.0%\n"
          ]
        }
      ]
    }
  ]
}