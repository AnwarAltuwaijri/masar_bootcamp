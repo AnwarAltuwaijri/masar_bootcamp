{
  "nbformat": 4,
  "nbformat_minor": 0,
  "metadata": {
    "colab": {
      "provenance": [],
      "authorship_tag": "ABX9TyPE9pQTBve/nAWIh44k0pZo",
      "include_colab_link": true
    },
    "kernelspec": {
      "name": "python3",
      "display_name": "Python 3"
    },
    "language_info": {
      "name": "python"
    }
  },
  "cells": [
    {
      "cell_type": "markdown",
      "metadata": {
        "id": "view-in-github",
        "colab_type": "text"
      },
      "source": [
        "<a href=\"https://colab.research.google.com/github/AnwarAltuwaijri/masar_bootcamp/blob/main/Python_hw__1.ipynb\" target=\"_parent\"><img src=\"https://colab.research.google.com/assets/colab-badge.svg\" alt=\"Open In Colab\"/></a>"
      ]
    },
    {
      "cell_type": "code",
      "execution_count": null,
      "metadata": {
        "colab": {
          "base_uri": "https://localhost:8080/"
        },
        "id": "F6iSU_XSGJMx",
        "outputId": "280f760d-9176-4dc6-8c4e-c5ae363af57c"
      },
      "outputs": [
        {
          "output_type": "stream",
          "name": "stdout",
          "text": [
            "I am Anwar Altuwaijri , My age is 27 ,I am a specialist in statistics I hope to benefit from everything presented in this course\n"
          ]
        }
      ],
      "source": [
        "#تعريف متغير و جعل قيمته هو اسمك\n",
        "x= 'Anwar Altuwaijri'\n",
        "\n",
        "#تعريف متغير آخر و يكون قيمته هو عمرك\n",
        "y= 27\n",
        "\n",
        "#طباعة جملة تتحدث فيها عن نفسك\n",
        "print('I am '+ x, ', My age is '+ str(y) ,',I am a specialist in statistics I hope to benefit from everything presented in this course')\n",
        "\n"
      ]
    },
    {
      "cell_type": "markdown",
      "source": [
        "# New Section"
      ],
      "metadata": {
        "id": "ZcXJ6OkVUpBr"
      }
    }
  ]
}